{
 "cells": [
  {
   "cell_type": "raw",
   "metadata": {
    "vscode": {
     "languageId": "raw"
    }
   },
   "source": [
    "---\n",
    "title: \"Mid-Course Reflection\"\n",
    "type: \"Reflection\"\n",
    "date: 2024-04-02\n",
    "image: reflection.jpg\n",
    "description: |\n",
    "    We reflect on our learning, engagement, and achievement in the first part of the semester. \n",
    "objectives: \n",
    "  - Reflection\n",
    "publish: \"true\"\n",
    "---"
   ]
  },
  {
   "attachments": {},
   "cell_type": "markdown",
   "metadata": {},
   "source": [
    "# CSCI 0451: Mid-Course Reflection\n",
    "\n",
    "Donovan Wood"
   ]
  },
  {
   "attachments": {},
   "cell_type": "markdown",
   "metadata": {},
   "source": [
    "## The Data\n",
    "\n",
    "\n",
    "### Presence in Class\n",
    "\n",
    "- *How often have you attended class? (e.g. \"almost always,\" \"I missed three times,\" etc.)* Almost always, have only missed due to sickness.\n",
    "- *How often have you taken notes on the core readings ahead of the class period?* Again, almost always, except when I am sick\n",
    "- *How often have you been **prepared** to present the daily warm-up exercise to your team, even if you weren't actually called?* 100% of the time so far.\n",
    "- *How many times have you **actually** presented the daily warm-up to your team?* Twice I believe.\n",
    "- *How many times have you asked your team for help while presenting the daily warm-up?* None, they weren't ones I had questions on, I do, however, ask for my team's input if anything is particularly interesting.\n",
    "- *How often have you learned something new from a teammate's presentation of the daily warm-up?* Once or twice, our team usually does a good job in discussing all of the warm up when we are in our own groups.\n",
    "- *How often have you helped a teammate during the daily warm-up presentation?* Never actually, every time our teammates have had no trouble with the warmup.\n",
    "\n",
    "### Presence Outside of Class \n",
    "\n",
    "- *How often have you attended Student Hours or Peer Help?* Occasionally, they often conflict with my other classes or work.\n",
    "- *How often have you asked for or received help from your fellow students?* Hmm, not as often as I would like, but a couple times before class. Just to see if other folks had the same questions I had. \n",
    "- *Have you been regularly participating in a study group outside class?* No, unfortunately. I wish I had a study group though! \n",
    "- *How often have you posted questions or answers in Slack?* Well not in the main questions tab, but I have been asking Professor Chondrow questions quite often recently via slack\n",
    "\n",
    "### Assignments and Effort\n",
    "\n",
    "- *How many blog posts have you submitted?* 2\n",
    "- *How many of your submitted blog posts are at each of the following feedback stages?*\n",
    "    - E: *No revisions suggested:* \n",
    "    - M: *Revisions useful:* 1\n",
    "    - R: *Revisions encouraged:* \n",
    "    - N: *Incomplete:* \n",
    "- *Roughly how many hours per week have you spent on this course outside of class?* Per week probably 15 lately, I've been working on a bunch of Blog Posts concurrently\n"
   ]
  },
  {
   "attachments": {},
   "cell_type": "markdown",
   "metadata": {},
   "source": [
    "## What You've Learned\n",
    "\n",
    "*At the beginning of the course, you may have expressed an interest in focusing a little extra on one or two of the following four categories:* \n",
    "\n",
    "- ***Theory***: *mathematical descriptions of frameworks and algorithms.*\n",
    "- ***Implementation***: *effective coding and use of tools in order to implement efficient machine learning algorithms.*\n",
    "- ***Experimentation***: *performing experiments to assess the performance of algorithms and clearly communicating about the results.*\n",
    "- ***Social responsibility***: *critical analysis of sources of bias and harm in machine learning algorithms; theoretical formulations of fairness and bias*\n",
    "\n",
    "*Did you choose to focus on any of these categories? If so, what have you done in order to pursue your interest?*    "
   ]
  },
  {
   "attachments": {},
   "cell_type": "markdown",
   "metadata": {},
   "source": [
    "I would say mainly Theory and Implementation are the ones I have been focusing on lately. One of the main things I wanted to learn with this class was the implementation of ML in regards to the financial market. Through that interest, I have found a vast amount of information online with so many different communities and tips. \n",
    "\n",
    "I hope to use these in order to complete my final project and learn a lot through the process!"
   ]
  },
  {
   "attachments": {},
   "cell_type": "markdown",
   "metadata": {},
   "source": [
    "## Reflecting on Goals\n",
    "\n",
    "*For each of the categories below, replace the \"[your response here]\" cell with 1-2 paragraphs in which you reflect on the following questions:* \n",
    "\n",
    "- *In what ways are you **on track to meet your goals** from the beginning of the course? Be specific: explain what the goal is and what you are doing in order to meet it.* \n",
    "- *In what ways are you **not on track to meet your goals** from the beginning of the course? Be specific: explain what the goal is and what gap you see between where you are and your goal.* \n",
    "- *If there's any **context** you want to share about how you are faring relative to your goals, please do!*\n",
    "\n",
    "### Blog Posts"
   ]
  },
  {
   "attachments": {},
   "cell_type": "markdown",
   "metadata": {},
   "source": [
    "As of now, I'm currently working on three blog posts concurrently with one almost done and two nearing write up stage. On top of that I have two blog posts already submitted. All things considered, my goal of trying to complete every blog post was rather ambitious but I still want to keep it as a goal even if I don't reach it in order to keep me motivated. One of the things I wish I did was work on my blog posts a bit over Spring Break but alas, the beach got to me unfortunately. "
   ]
  },
  {
   "attachments": {},
   "cell_type": "markdown",
   "metadata": {},
   "source": [
    "### Course Presence (Participation)"
   ]
  },
  {
   "attachments": {},
   "cell_type": "markdown",
   "metadata": {},
   "source": [
    "Besides being sick a few days, I have went to class and completed the warm ups. While yes, theoretically I could have went back and did the warm ups for the classes I was sick for, I think this is a good benchmark of where I set out to be at the beginning of the semester. \n",
    "\n",
    "Looking forward, as the semester comes to a close, inevitably there will be deadlines and other projects that may take away from this, but I hope to not let that be the case and keep continuing onward."
   ]
  },
  {
   "attachments": {},
   "cell_type": "markdown",
   "metadata": {},
   "source": [
    "### Project "
   ]
  },
  {
   "attachments": {},
   "cell_type": "markdown",
   "metadata": {},
   "source": [
    "Well, since our project proposals were only due today, the stage of the project is still very early. That being said, I met with four individuals that seem to have a similar interest/idea to mine and I hope to work with them all in order to create something truly awesome! \n",
    "\n",
    "From talking with them, we all seem to recognize that the task will be hard and more unlike the work we have done currently in class but I believe that is part of the allure of the project. Hopefully by the end of the semester I can look back at our project and be proud of the model we created! "
   ]
  },
  {
   "attachments": {},
   "cell_type": "markdown",
   "metadata": {},
   "source": [
    "### Other\n",
    "\n",
    "*Is there anything else that you want to share with me about what you have learned, how you have participated, or what you have achieved in CSCI 0451?*"
   ]
  },
  {
   "attachments": {},
   "cell_type": "markdown",
   "metadata": {},
   "source": [
    "I haven't learned/had this much fun/struggled at times with a class in a pretty long time. I'm excited I was able to take it and look forward to developing my skills further!"
   ]
  },
  {
   "attachments": {},
   "cell_type": "markdown",
   "metadata": {},
   "source": [
    "### Updating Your Goals\n",
    "\n",
    "From your experience in CSCI 0451 and your other classes this semester, you may feel moved to make modifications to your goals. Are they still feasible? Too ambitious? Not ambitious enough? If you would like to revise any of your goals from your reflective goal-setting, you can do so below. For each goal you want to modify: \n",
    "\n",
    "1. Clearly state what the goal was. \n",
    "2. Clearly state how you've done on that goal so far. \n",
    "3. Clearly state your proposed revised goal for the remainder of the course. "
   ]
  },
  {
   "attachments": {},
   "cell_type": "markdown",
   "metadata": {},
   "source": [
    "I want to maintain goals that I had at the beginning of the semester. I feel as though it would be a disservice to my past self if I stopped pressing the go button. I want to learn as much as possible! I'll keep trying to do so unless something drastic comes up."
   ]
  },
  {
   "attachments": {},
   "cell_type": "markdown",
   "metadata": {},
   "source": [
    "## Grade and Goals\n",
    "\n",
    "*Take 15 minutes to look back on your responses in each of the sections above. Then, state the letter grade that you feel reflects your learning, participation, and achievement in CSCI 0451 **so far**, and contextualize it against some of the soundbytes below.* \n",
    "\n",
    "### What a Grade Sounds Like\n",
    "\n",
    "*An **A** sounds like:* \n",
    "\n",
    "- *\"I am very proud of my time in this course.\"*\n",
    "- *\"I have grown significantly in multiple ways that matter to me.\"*\n",
    "- *\"I am ready to take the theory, techniques, and ideas of this course into my future classes, projects, hobbies, or career.\"* \n",
    "\n",
    "*A **B** sounds like:* \n",
    "\n",
    "- *\"I had some opportunities to learn more, overall I feel good about my time in this course.\"*\n",
    "- *\"I am able to explain some new things or achieve new tasks.\"*\n",
    "- *\"I can see a few ideas from this course that will be relevant for my future classes, projects, hobbies, or career.\"*\n",
    "\n",
    "*A **C** sounds like:* \n",
    "\n",
    "- *\"I often made a good effort, but I missed many opportunities to get more out of my time in this course.\"*\n",
    "- *\"I might be able to complete some new tasks related to the course content, but only with significant further guidance.\"* \n",
    "- *\"I don't see any ways to take the contents of this course into my future classes, projects, hobbies, or career.\"*\n",
    "\n",
    "*You might find that some of these soundbytes resonate and other's don't! Take some time, see what feels right, and don't be afraid to celebrate your achievements.* "
   ]
  },
  {
   "attachments": {},
   "cell_type": "markdown",
   "metadata": {},
   "source": [
    "> **Upon reflection, I feel that my learning, participation, and achievement in CSCI 0451 (so far) are best reflected by a grade of** A- \n",
    "\n",
    "> **A way in which I resonate with the soundbytes for that grade above is...**\n",
    "\n",
    "I truly am proud of my time spent so far in the course. It's been a lot of time and effort but I'm proud of myself for not burning out and staying excited. I have learned a lot so far, but more importantly was actively seeking additional information that was interesting to me. I often find myself just 'doing' class so I'm excited that I actually WANT to do extra and learn. Lastly, I'm hoping this project will teach me a lot about this area of computing and be something I can look back on proudly!"
   ]
  }
 ],
 "metadata": {
  "kernelspec": {
   "display_name": "ml-0451",
   "language": "python",
   "name": "python3"
  },
  "language_info": {
   "name": "python",
   "version": "3.9.18"
  },
  "orig_nbformat": 4,
  "vscode": {
   "interpreter": {
    "hash": "debe06cc0f9553f110b64dc3926c05df82dae2145b852c8422b9c04315589dcb"
   }
  }
 },
 "nbformat": 4,
 "nbformat_minor": 2
}
