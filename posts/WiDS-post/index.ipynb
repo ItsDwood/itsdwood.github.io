{
 "cells": [
  {
   "cell_type": "raw",
   "metadata": {},
   "source": [
    "---\n",
    "title: The Women in Data Science (WiDS) Conference at Middlebury College\n",
    "author: Donovan Wood\n",
    "date: '2024-03-14'\n",
    "image: \"WiDS.jpeg\"\n",
    "description: \"Highlighting the Middlebury Women in Data Science Conference that took place on March 4th, 2024\"\n",
    "format: html\n",
    "---"
   ]
  },
  {
   "cell_type": "markdown",
   "metadata": {},
   "source": [
    "## Abstract \n",
    "\n",
    "In this blog post, we explore the pivotal role of women in the fields of computing, math, and engineering, and the significant impact of conferences like WiDS (Women in Data Science) in fostering change. We delve into the historical context of women's participation in computing, highlight the current challenges and barriers they face, and celebrate the achievements of notable women scholars who are pushing the boundaries of data science and its application in diverse fields. Through the insights from Professors Amy Yuen, Jessica L'Roe, Laura Biester, and Sarah Brown, we learn about the transformative power of data science in political science, geography, mental health, and the quest for fairness in machine learning. This post aims to illuminate the importance of diversity in STEM and inspire action towards a more inclusive future."
   ]
  },
  {
   "cell_type": "markdown",
   "metadata": {},
   "source": [
    "## Part 1: Why Spotlight Women in Data Science?\n",
    "\n",
    "# Why is it a problem that women are underrepresented in computing, math, and engineering? For whom is it a problem?\n",
    "\n",
    "The issue that lack of representation presents is one of diversity, forward-thinking, and overall growth of computing, math, and engineering fields. Diversity in the workforce contributes to creativity, productivity, innovation, and teamwork. The perspective of both women and men should be utilized in order to guide the future of these technical fields. All women are subject to this issue of representation within these fields, but some women of color are especially underrepresented (Black, Hispanic, American Indian, Alaska Native). The nature of the STEM field also highlights this issue, engineering and computing occupations offer a higher return on investment and better prospects than jobs in other STEM fields. If women are not well represented in these fields, they lose out on these high-quality job opportunities.\n",
    "\n",
    "# How is the representation and status of women in computing today different from the 1950s and 1960s? What are some of the forces that brought on this change?\n",
    "\n",
    "In the 1950s and 1960s, women were not as sparsely represented in computing as compared to today. Throughout the mid 1900s, computing was still a relatively new field that lacked a gender identity and needed workers. Over time, however, the field became solidly male-dominated. Researchers propose a multitude of reasons for this such as, \"hiring practices in the 1960s and 1970s that favored men, the increasing professionalization of the field, a stronger connection with the technical engineering culture, a male gaming culture that entered computing with the rise of the personal computer, and increasingly stringent requirements for being admitted to an undergraduate computing program due to the increasing popularity of the field\" (Corbet and Hill 15). Corbet and Hill continue to list various other factors, but these variables all played a role in forming the current male-dominated field we see presently.\n",
    "\n",
    "# Which of the barriers and unequal challenges described in the section “Why So Few?” can be eroded by events that spotlight the achievement of women in STEM?\n",
    "\n",
    "Though the authors mention multiple important factors that contribute to barriers for women in these fields, one that summarizes much of them is a \"Sense of Belonging\". The authors mention how women often feel as if they do not belong within these fields or face an \"imposter\" syndrome when in an environment with their male counterparts. I believe this feeling can be eroded by highlighting from an early stage, both the existence of prominent women in these fields and the achievements they have made. For example, the WiDS conference can be given to a wide audience of men/women from a young age, illustrating the fact that these fields can sought after successfully and allowing those that were skeptical, to be more comfortable. I believe the most important factor is to get those who are interested and willing to at least TRY rather than be discouraged due to aforementioned barriers and not try at all. Do or do not, there is no try!\n"
   ]
  },
  {
   "cell_type": "markdown",
   "metadata": {},
   "source": [
    "### Report on Professors' Contribution to Data Science\n",
    "\n",
    "## Professor Amy Yuen\n",
    "\n",
    "Professor Amy Yuen is a Professor of Political Science at Middlebury College. Her research focused on the United Nations Security Council and aimed to answer if it is truly a democratic institution. Within the United Nations Security Council, elected members do not have veto power, Professor Yuen hoped to answer whether these members continue to run if this is the case, and if there is a lack of representation within the council. In her research, she measured the number of resolutions, formal meetings and consultations, presidential statements, resolution Co-sponsorships, and Aria-Formula Meetings. She found that sponsorships showed the biggest differences in who is doing what. Another aspect of her research was investigating the members that sit on the council, and the frequency of which. She found that the data showed that countries were geared more towards inclusion over time. She concluded by finding that while the council was not entirely representative, it could be worse. She plans to continue with this research to see how this finding plays into the output and effectiveness of the council. From her talk, I learned how data science can be applied to essentially any aspect of our lives. Before this talk, data science seemed strictly technical and I would have never thought about how it can be used in the context of politics and policy. The talk opened my eyes to the realm of possibilities that data science presents in so many varying fields. \n",
    "\n",
    "# From Politics to Environmental Stewardship\n",
    "\n",
    "## Professor Jessica L'Roe \n",
    "\n",
    "Professor Jessica L'Roe is an assistant professor of Geography at Middlebury College. Professor Roe spoke about her research into monitoring change in tropical forest landscapes within East Africa. Within her research, she found that mothers were more willing to invest in education rather than land because it was a better bet for the success of their children. Although her research was an important crux of her talk, one of the main messages she wanted to convey was that all kinds of things can be \"data\". Regardless of whether something is abstract or physical, it can often be used to analyze certain behaviors or outcomes. She concluded her talk by emphasizing how women are making large contributions in her field and to just \"Go for it\"! After listening to her talk, I learned the importance of varying types of data and utilization, but more importantly how it was collected. Her data was collected using the help of locals and traveling from settlement to settlement. It was so interesting to hear this type of data collection as before this, most of the data collection I was used to was simply clicking on a link or downloading a dataset. It showed me that data science can transcend the keyboard and has real implications for REAL people. \n",
    "\n",
    "# Exploring the Intersection of Mental Health and Technology\n",
    "\n",
    "## Professor Laura Biester\n",
    "\n",
    "Professor Laura Biester is a Computer Science Professor at Middlebury College. Professor Biester spoke about her research regarding the connection between language and mental health. She used a corpus of Reddit posts and comments from 2006-2019 to predict whether or not language could be used to identify those who were diagnosed with depression before their diagnosis. Through multiple models such as logistic regression and MentalBeRT, she was able to successfully produce a model that was relatively accurate in predicting depression in users using only language. Like Professor L'Roe's talk, although much of Professor Biester's talk was focused on her research, a huge point she emphasized was that data collection is a huge part of the data science process - it's not just about building models. This part struck true to me as I learned that no matter how good your model is, it is only as good as the data it is being supplied with. Data preprocessing and determining which parts of data to use or not use is crucial in the data science process.\n",
    "\n",
    "# Fostering Fairness in Machine Learning \n",
    "\n",
    "## Professor Sarah Brown\n",
    "\n",
    "Professor Sarah Brown is an assistant professor of Computer Science at the University of Rhode Island. In her talk, her research focused on how to make machine learning more fair. More broadly, however, she discussed the implications of data science through the use of \"keys\". These keys were: Disciplines are communities, meet people where they are, and understand data's context. She mentioned three projects and the \"lock\" for each, which is something she needed to figure out for it all to work and flow.\n",
    "\n",
    "These keys were used to unlock these locks and culminate a successful data science process. The keys were picked up often from something that had no explicit relation to data science itself but were collected from other aspects of her life. For example, one of the skills she picked up from social studies was the ability to use context to understand primary sources. She mentions that oftentimes, data scientists fall into the trap of only thinking like a data scientist and approaching the problem from one particular angle. By using other disciplines/individuals' perspectives, you may be able to figure out a problem in a more efficient/effective way than you would have otherwise. She concluded by stressing the importance of these three keys and emphasizing the idea of understanding \"why\" rather than just \"doing\" when it comes to data science. Through this, I learned key principles that will influence the future of my computer science journey. \n"
   ]
  },
  {
   "cell_type": "markdown",
   "metadata": {},
   "source": [
    "## Conclusion\n",
    "\n",
    "This exploration into the status of women in computing and the supportive role of initiatives like WiDS has been enlightening. It has underscored the importance of diversity for innovation and the vast potential of data science to impact various aspects of society positively. From the historical context of women's evolving role in computing to the cutting-edge research conducted by leading female data scientists, this journey has highlighted both the challenges and the incredible opportunities that lie ahead. As we look forward to a more inclusive and equitable future in STEM, the lessons learned here inspire continued advocacy and action. My next steps involve deepening my understanding of how to support diversity in tech and exploring more about how data science can be leveraged for social good."
   ]
  }
 ],
 "metadata": {
  "kernelspec": {
   "display_name": "Python 3 (ipykernel)",
   "language": "python",
   "name": "python3"
  },
  "language_info": {
   "codemirror_mode": {
    "name": "ipython",
    "version": 3
   },
   "file_extension": ".py",
   "mimetype": "text/x-python",
   "name": "python",
   "nbconvert_exporter": "python",
   "pygments_lexer": "ipython3",
   "version": "3.9.18"
  },
  "vscode": {
   "interpreter": {
    "hash": "debe06cc0f9553f110b64dc3926c05df82dae2145b852c8422b9c04315589dcb"
   }
  }
 },
 "nbformat": 4,
 "nbformat_minor": 4
}
