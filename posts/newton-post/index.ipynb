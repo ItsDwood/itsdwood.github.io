{
 "cells": [
  {
   "cell_type": "raw",
   "metadata": {
    "vscode": {
     "languageId": "raw"
    }
   },
   "source": [
    "---\n",
    "title: Newton's Method for Logistic Regression\n",
    "author: Donovan Wood\n",
    "date: '2024-05-15'\n",
    "image: \"newton.jpg\"\n",
    "description: \"This Blog Post will implement Newton's Method for Logistic Regression in Python.\"\n",
    "format: html\n",
    "---"
   ]
  }
 ],
 "metadata": {
  "kernelspec": {
   "display_name": "ml-0451",
   "language": "python",
   "name": "python3"
  },
  "language_info": {
   "name": "python",
   "version": "3.9.18"
  }
 },
 "nbformat": 4,
 "nbformat_minor": 2
}
