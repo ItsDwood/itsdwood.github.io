{
 "cells": [
  {
   "cell_type": "markdown",
   "metadata": {},
   "source": [
    "# CSCI 0451: Reflective Goal-Setting\n",
    "\n",
    "Donovan Wood"
   ]
  },
  {
   "cell_type": "markdown",
   "metadata": {},
   "source": [
    "## What You'll Learn\n",
    "\n",
    "*The knowledge we'll develop in CSCI 0451 can be broadly divided into four main areas:*\n",
    "\n",
    "- ***Theory***: *mathematical descriptions of frameworks and algorithms.*\n",
    "- ***Implementation***: *effective coding and use of tools in order to implement efficient machine learning algorithms.*\n",
    "- ***Experimentation***: *performing experiments to assess the performance of algorithms and clearly communicating about the results.*\n",
    "- ***Social responsibility***: *critical analysis of sources of bias and harm in machine learning algorithms; theoretical formulations of fairness and bias*\n",
    "\n",
    "*Every student should grow toward each of these areas, but you can choose to specialize if you'd like! If there are one or two of these categories on which you'd especially like to focus, list them below. Feel free to include any details that you'd like -- this can help me tailor the course content to your interests.*"
   ]
  },
  {
   "cell_type": "markdown",
   "metadata": {},
   "source": [
    "As mentioned, I want to obviously grow in each of these areas, but in particular I hope to expand my knowledge in the Theory and Experimentation areas.\n",
    "\n",
    "I want to know *why* things work, not just \"They work, and here is how to use them\". Throughout my college experience I oftentimes found myself just *doing* the motions and I really want to try to emphasize fully grasping the material. \n",
    "\n",
    "In terms of relevance to my future, I want to join a quantitative firm in the future, in order to research further in the field and develop systems that work efficiently in the market. Being an Economics and Computer Science Major, my interest lies in both and looking forward, this path seems to be the most interesting to me. That being said, machine learning is a huge component of that job field and so I want to be adept in my learnings/experimentations in the course so that I can use some of what I learned in real-world applications."
   ]
  },
  {
   "cell_type": "markdown",
   "metadata": {},
   "source": [
    "## What You'll Achieve\n",
    "\n",
    "### Blog Posts\n",
    "\n",
    "*Most blog posts will require around 5-8 hours on average to complete, plus time for revisions in response to feedback. Blog posts will most frequently involve a mix of mathematical problem-solving, coding, experimentation, and written discussion. Some blog posts will ask you to critically discuss recent readings in an essay-like format.*"
   ]
  },
  {
   "cell_type": "markdown",
   "metadata": {},
   "source": [
    "Currently, I plan to complete as many blog posts as I can, not only for the obvious grade, but also in order to access my learning accordingly. By doing as many as I can, I can directly apply the most recent class teachings and hope to build on more fundamental skills. \n",
    "\n",
    "That is my current goal, however I do realize I am taking five courses, three of which are computer science courses, so I acknowledge that there will be times in which I have too much on my plate in order to complete every one. Still, I hope to at least keep this mentality throughout the course of the semester and do the best job I can."
   ]
  },
  {
   "cell_type": "markdown",
   "metadata": {},
   "source": [
    "### Course Presence (Participation)\n",
    "\n",
    "*You make a choice each day about how to show up for class: whether you'll be prepared, whether you'll engage with me and your peers in a constructive manner; and whether you'll be active during lecture and discussions.*\n",
    "\n",
    "*An especially important form of course presence is the daily warmup. We'll spend the first 10-15 minutes of most class periods on warmup activities. You're expected to have prepared the warmup activity ahead of time (this means you'll need to have completed the readings as well). Each time, we'll sort into groups of 5-6 students, and one of you (randomly selected) will be responsible for presenting the activity on the whiteboard. If you're not feeling prepared to present the activity, you can \"pass\" to the next person, or ask for help along the way.*"
   ]
  },
  {
   "cell_type": "markdown",
   "metadata": {},
   "source": [
    "Preparing for the warmups is a task that I believe I can achieve every week. Not only does it help with the understandings of the class material that day, but also reinforces the idea of completion due to societal and class pressure ha! All joking aside, I hope to continue to complete all the warmups throughout the semester and get help from my peers if I'm stuck on one."
   ]
  },
  {
   "cell_type": "markdown",
   "metadata": {},
   "source": [
    "### Project \n",
    "\n",
    "*To finish off the course, you'll complete a long-term project that showcases your interests and skills. You'll be free to propose and pursue a topic. My expectation is that most projects will move significantly beyond the content covered in class in some way: you might implement a new algorithm, study a complex data set in depth, or conduct a series of experiments related to assessing algorithmic bias in a certain class of algorithm. You'll be expected to complete this project in small groups (of your choosing), and update us at a few milestones along the way.*\n",
    "\n",
    "*Please share a bit about what kind of topic might excite you, and set a few goals about how you plan to show up as a constructive team-member and co-inquirer (see the [ideas](ideas.qmd) for some inspiration*). "
   ]
  },
  {
   "cell_type": "markdown",
   "metadata": {},
   "source": [
    "Ever since I joined the class, I always wanted to develop something that directly applies to my future career aspirations. \n",
    "\n",
    "This may seem a bit ambitious, but I want to develop an machine learning algorithm that can create a positive return rate trading on some good (stock, etf, futures, options) in the market consistently. \n",
    "\n",
    "Obviously things that come to mind are data limitations (real-time data), effective implementation, and non bias results but I still want to try to achieve this goal.\n",
    "\n",
    "As of now, we are only beginning week 3 of the class, so I am unsure as to if that is possible given the course teachings, but I am willing to learn additional things outside of the class in order to achieve this. Even if I am unsuccessful in developing a model that achieves all my goals, I believe that the learning experience and process will be useful for my future endeavors."
   ]
  }
 ],
 "metadata": {
  "kernelspec": {
   "display_name": "ml-0451",
   "language": "python",
   "name": "python3"
  },
  "language_info": {
   "name": "python",
   "version": "3.9.15"
  },
  "vscode": {
   "interpreter": {
    "hash": "debe06cc0f9553f110b64dc3926c05df82dae2145b852c8422b9c04315589dcb"
   }
  }
 },
 "nbformat": 4,
 "nbformat_minor": 4
}
